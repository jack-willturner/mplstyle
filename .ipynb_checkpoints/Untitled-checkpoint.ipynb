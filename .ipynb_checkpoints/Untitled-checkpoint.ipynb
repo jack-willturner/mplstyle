{
 "cells": [
  {
   "cell_type": "code",
   "execution_count": 1,
   "metadata": {},
   "outputs": [
    {
     "name": "stderr",
     "output_type": "stream",
     "text": [
      "Bad value in file PosixPath('/Users/jackturner/.matplotlib/stylelib/thesis.mplstyle'), line 2 ('figure.figsize: 4.8'): Key figure.figsize: Expected 2 values, but there are 1 values in 4.8\n"
     ]
    }
   ],
   "source": [
    "from matplotlib.pyplot import cycler\n",
    "import numpy as np\n",
    "from matplotlib.colors import LinearSegmentedColormap, ListedColormap\n",
    "import matplotlib.cm\n",
    "\n",
    "def get_cycle(cmap, N=None, use_index=\"auto\"):\n",
    "    if isinstance(cmap, str):\n",
    "        if use_index == \"auto\":\n",
    "            if cmap in ['Pastel1', 'Pastel2', 'Paired', 'Accent',\n",
    "                        'Dark2', 'Set1', 'Set2', 'Set3',\n",
    "                        'tab10', 'tab20', 'tab20b', 'tab20c']:\n",
    "                use_index=True\n",
    "            else:\n",
    "                use_index=False\n",
    "        cmap = matplotlib.cm.get_cmap(cmap)\n",
    "    if not N:\n",
    "        N = cmap.N\n",
    "    if use_index==\"auto\":\n",
    "        if cmap.N > 100:\n",
    "            use_index=False\n",
    "        elif isinstance(cmap, LinearSegmentedColormap):\n",
    "            use_index=False\n",
    "        elif isinstance(cmap, ListedColormap):\n",
    "            use_index=True\n",
    "    if use_index:\n",
    "        ind = np.arange(int(N)) % cmap.N\n",
    "        return cycler(\"color\",cmap(ind))\n",
    "    else:\n",
    "        colors = cmap(np.linspace(0,1,N))\n",
    "        return cycler(\"color\",colors)"
   ]
  },
  {
   "cell_type": "code",
   "execution_count": 2,
   "metadata": {},
   "outputs": [],
   "source": [
    "import matplotlib.pyplot as plt\n",
    "N = 5\n",
    "prop_cycle = get_cycle(\"viridis\", N)"
   ]
  },
  {
   "cell_type": "code",
   "execution_count": 4,
   "metadata": {},
   "outputs": [
    {
     "name": "stdout",
     "output_type": "stream",
     "text": [
      "cycler('color', [array([0.267004, 0.004874, 0.329415, 1.      ]), array([0.229739, 0.322361, 0.545706, 1.      ]), array([0.127568, 0.566949, 0.550556, 1.      ]), array([0.369214, 0.788888, 0.382914, 1.      ]), array([0.993248, 0.906157, 0.143936, 1.      ])])\n"
     ]
    }
   ],
   "source": [
    "print(prop_cycle)"
   ]
  },
  {
   "cell_type": "code",
   "execution_count": null,
   "metadata": {},
   "outputs": [],
   "source": []
  }
 ],
 "metadata": {
  "kernelspec": {
   "display_name": "Python 3",
   "language": "python",
   "name": "python3"
  },
  "language_info": {
   "codemirror_mode": {
    "name": "ipython",
    "version": 3
   },
   "file_extension": ".py",
   "mimetype": "text/x-python",
   "name": "python",
   "nbconvert_exporter": "python",
   "pygments_lexer": "ipython3",
   "version": "3.7.8"
  }
 },
 "nbformat": 4,
 "nbformat_minor": 4
}
